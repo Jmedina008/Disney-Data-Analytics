{
  "cells": [
    {
      "cell_type": "markdown",
      "metadata": {},
      "source": [
        "# Disney+ Streaming Analytics\n\n",
        "Analysis of Disney+ streaming platform performance and content engagement.\n\n",
        "## Table of Contents\n",
        "1. [Setup and Data Loading](#Setup-and-Data-Loading)\n",
        "2. [Content Analysis](#Content-Analysis)\n",
        "   - Content Distribution\n",
        "   - Release Strategy\n",
        "   - Content Lifecycle\n",
        "3. [Viewer Engagement](#Viewer-Engagement)\n",
        "   - Watch Time\n",
        "   - Completion Rates\n",
        "   - User Behavior\n",
        "4. [Platform Performance](#Platform-Performance)\n",
        "   - User Growth\n",
        "   - Retention Metrics\n",
        "   - Technical Performance\n",
        "5. [Content Strategy](#Content-Strategy)\n",
        "   - Popular Categories\n",
        "   - Recommendation Effectiveness\n",
        "   - Content Gaps\n",
        "6. [Conclusions](#Conclusions)"
      ]
    },
    {
      "cell_type": "code",
      "execution_count": null,
      "metadata": {},
      "outputs": [],
      "source": [
        "# Import required libraries\n",
        "import pandas as pd\n",
        "import numpy as np\n",
        "import matplotlib.pyplot as plt\n",
        "import seaborn as sns\n",
        "from datetime import datetime\n",
        "\n",
        "# Set plotting style\n",
        "plt.style.use('seaborn')\n",
        "sns.set_palette('deep')\n",
        "%matplotlib inline\n",
        "\n",
        "# Configure display options\n",
        "pd.set_option('display.max_columns', None)\n",
        "pd.set_option('display.max_rows', 50)\n",
        "pd.set_option('display.float_format', lambda x: '%.2f' % x)"
      ]
    },
    {
      "cell_type": "code",
      "execution_count": null,
      "metadata": {},
      "outputs": [],
      "source": [
        "# Helper functions for data processing\n",
        "def load_data(filepath):\n",
        "    \"\"\"Load and validate data from specified path.\"\"\"\n",
        "    try:\n",
        "        df = pd.read_parquet(filepath)\n",
        "        print(f'Successfully loaded data from {filepath}')\n",
        "        return df\n",
        "    except Exception as e:\n",
        "        print(f'Error loading data: {e}')\n",
        "        return None\n",
        "\n",
        "def format_currency(value):\n",
        "    \"\"\"Format numbers as currency.\"\"\"\n",
        "    return f'${value:,.2f}'\n",
        "\n",
        "def calculate_growth(series):\n",
        "    \"\"\"Calculate year-over-year growth rate.\"\"\"\n",
        "    return (series - series.shift(1)) / series.shift(1) * 100"
      ]
    }
  ],
  "metadata": {
    "kernelspec": {
      "display_name": "Python 3",
      "language": "python",
      "name": "python3"
    },
    "language_info": {
      "codemirror_mode": {
        "name": "ipython",
        "version": 3
      },
      "file_extension": ".py",
      "mimetype": "text/x-python",
      "name": "python",
      "nbconvert_exporter": "python",
      "pygments_lexer": "ipython3",
      "version": "3.8.0"
    }
  },
  "nbformat": 4,
  "nbformat_minor": 4
}