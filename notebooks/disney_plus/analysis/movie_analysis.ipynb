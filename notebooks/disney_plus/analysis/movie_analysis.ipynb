{
 "cells": [
  {
   "cell_type": "code",
   "execution_count": null,
   "id": "c5d2876e",
   "metadata": {
    "lines_to_next_cell": 0
   },
   "outputs": [],
   "source": []
  },
  {
   "cell_type": "markdown",
   "id": "cbc03515",
   "metadata": {},
   "source": [
    "# Disney Movie Analysis\n",
    "\n",
    "Analysis of Disney movie performance across various metrics.\n",
    "\n",
    "## Table of Contents\n",
    "1. [Setup and Data Loading](#Setup-and-Data-Loading)\n",
    "2. [Box Office Analysis](#Box-Office-Analysis)\n",
    "   - Revenue Distribution\n",
    "   - Budget vs Revenue\n",
    "   - ROI Analysis\n",
    "3. [Genre Analysis](#Genre-Analysis)\n",
    "   - Genre Distribution\n",
    "   - Genre Performance\n",
    "   - Genre Trends\n",
    "4. [Temporal Analysis](#Temporal-Analysis)\n",
    "   - Release Patterns\n",
    "   - Seasonal Performance\n",
    "   - Year-over-Year Growth\n",
    "5. [Audience Analysis](#Audience-Analysis)\n",
    "   - Rating Distribution\n",
    "   - Popularity Metrics\n",
    "   - Demographic Insights\n",
    "6. [Statistical Tests](#Statistical-Tests)\n",
    "   - Hypothesis Testing\n",
    "   - Regression Analysis\n",
    "   - Time Series Analysis\n",
    "7. [Conclusions](#Conclusions)"
   ]
  },
  {
   "cell_type": "markdown",
   "id": "c082c6fe",
   "metadata": {},
   "source": [
    "## Setup and Data Loading"
   ]
  },
  {
   "cell_type": "code",
   "execution_count": null,
   "id": "c154e760",
   "metadata": {},
   "outputs": [],
   "source": [
    "# Import required libraries\n",
    "import pandas as pd\n",
    "import numpy as np\n",
    "import matplotlib.pyplot as plt\n",
    "import seaborn as sns\n",
    "import json\n",
    "from datetime import datetime\n",
    "import os"
   ]
  },
  {
   "cell_type": "code",
   "execution_count": null,
   "id": "8ad2f3f8",
   "metadata": {},
   "outputs": [],
   "source": [
    "# Import statistical libraries\n",
    "from scipy import stats\n",
    "from statsmodels.formula.api import ols\n",
    "import statsmodels.api as sm\n",
    "from statsmodels.tsa.seasonal import seasonal_decompose\n",
    "from statsmodels.tsa.stattools import adfuller\n",
    "from sklearn.linear_model import LinearRegression\n",
    "from sklearn.preprocessing import StandardScaler\n",
    "from sklearn.model_selection import train_test_split\n",
    "from sklearn.metrics import mean_squared_error, r2_score"
   ]
  },
  {
   "cell_type": "code",
   "execution_count": null,
   "id": "ebbb45fb",
   "metadata": {},
   "outputs": [],
   "source": [
    "# Set plotting style\n",
    "plt.style.use('seaborn')\n",
    "sns.set_palette('deep')"
   ]
  },
  {
   "cell_type": "code",
   "execution_count": null,
   "id": "89c07b54",
   "metadata": {
    "lines_to_next_cell": 1
   },
   "outputs": [],
   "source": [
    "# Configure display options\n",
    "pd.set_option('display.max_columns', None)\n",
    "pd.set_option('display.max_rows', 50)\n",
    "pd.set_option('display.float_format', lambda x: '%.2f' % x)"
   ]
  },
  {
   "cell_type": "code",
   "execution_count": null,
   "id": "e67e1487",
   "metadata": {
    "lines_to_next_cell": 1
   },
   "outputs": [],
   "source": [
    "# Helper functions\n",
    "def load_data(filepath):\n",
    "    \"\"\"Load and validate data from specified path.\"\"\"\n",
    "    try:\n",
    "        df = pd.read_parquet(filepath)\n",
    "        print(f'Successfully loaded data from {filepath}')\n",
    "        return df\n",
    "    except Exception as e:\n",
    "        print(f'Error loading data: {e}')\n",
    "        return None"
   ]
  },
  {
   "cell_type": "code",
   "execution_count": null,
   "id": "1bc15a30",
   "metadata": {
    "lines_to_next_cell": 1
   },
   "outputs": [],
   "source": [
    "def format_currency(value):\n",
    "    \"\"\"Format numbers as currency.\"\"\"\n",
    "    return f'${value:,.2f}' if pd.notnull(value) else 'N/A'"
   ]
  },
  {
   "cell_type": "code",
   "execution_count": null,
   "id": "b73dc359",
   "metadata": {
    "lines_to_next_cell": 1
   },
   "outputs": [],
   "source": [
    "def calculate_growth(series):\n",
    "    \"\"\"Calculate year-over-year growth rate.\"\"\"\n",
    "    return (series - series.shift(1)) / series.shift(1) * 100"
   ]
  },
  {
   "cell_type": "code",
   "execution_count": null,
   "id": "391d808f",
   "metadata": {},
   "outputs": [],
   "source": [
    "# Load processed movie data\n",
    "movies_df = load_data('../../../data/processed/disney_plus/disney_movies_processed_20250309.parquet')"
   ]
  },
  {
   "cell_type": "code",
   "execution_count": null,
   "id": "d2b339d8",
   "metadata": {},
   "outputs": [],
   "source": [
    "# Load box office data\n",
    "with open('../../../data/raw/box_office/box_office_data_20250309_231818.json', 'r') as f:\n",
    "    box_office_df = pd.DataFrame(json.load(f))"
   ]
  },
  {
   "cell_type": "code",
   "execution_count": null,
   "id": "72d5d662",
   "metadata": {},
   "outputs": [],
   "source": [
    "# Merge datasets\n",
    "df = pd.merge(movies_df, box_office_df, on='id', how='left')"
   ]
  },
  {
   "cell_type": "code",
   "execution_count": null,
   "id": "40e630d1",
   "metadata": {},
   "outputs": [],
   "source": [
    "# Display basic information about the dataset\n",
    "print(\"Dataset Overview:\")\n",
    "print(f\"Number of movies: {len(df)}\")\n",
    "print(\"\\nMissing values:\")\n",
    "print(df.isnull().sum())"
   ]
  },
  {
   "cell_type": "code",
   "execution_count": null,
   "id": "1c89b1b0",
   "metadata": {},
   "outputs": [],
   "source": [
    "# Display first few rows\n",
    "print(df.head())"
   ]
  },
  {
   "cell_type": "markdown",
   "id": "dd480ea7",
   "metadata": {},
   "source": [
    "## Box Office Analysis"
   ]
  },
  {
   "cell_type": "code",
   "execution_count": null,
   "id": "6a9697b4",
   "metadata": {},
   "outputs": [],
   "source": [
    "# Calculate basic financial statistics\n",
    "financial_stats = pd.DataFrame({\n",
    "    'Budget': [df['budget'].min(), df['budget'].median(), df['budget'].mean(), df['budget'].max()],\n",
    "    'Revenue': [df['revenue'].min(), df['revenue'].median(), df['revenue'].mean(), df['revenue'].max()]\n",
    "}, index=['Min', 'Median', 'Mean', 'Max'])"
   ]
  },
  {
   "cell_type": "code",
   "execution_count": null,
   "id": "173acfda",
   "metadata": {},
   "outputs": [],
   "source": [
    "print(\"Financial Statistics (in USD):\")\n",
    "print(financial_stats.applymap(format_currency))"
   ]
  },
  {
   "cell_type": "code",
   "execution_count": null,
   "id": "73570cf5",
   "metadata": {},
   "outputs": [],
   "source": [
    "# Create revenue distribution plot\n",
    "plt.figure(figsize=(12, 6))\n",
    "sns.histplot(data=df, x='revenue', bins=30)\n",
    "plt.title('Distribution of Movie Revenue')\n",
    "plt.xlabel('Revenue (USD)')\n",
    "plt.ylabel('Count')\n",
    "plt.ticklabel_format(style='plain', axis='x')\n",
    "plt.xticks(rotation=45)\n",
    "plt.savefig('../../../reports/figures/revenue_distribution.png', dpi=300, bbox_inches='tight')\n",
    "plt.show()"
   ]
  },
  {
   "cell_type": "code",
   "execution_count": null,
   "id": "0c21ac88",
   "metadata": {},
   "outputs": [],
   "source": [
    "# Calculate and display top 10 highest-grossing movies\n",
    "top_10_revenue = df.nlargest(10, 'revenue')[['title', 'release_date', 'revenue', 'budget']]\n",
    "print(\"\\nTop 10 Highest-Grossing Disney Movies:\")\n",
    "print(top_10_revenue.to_string(index=False))"
   ]
  },
  {
   "cell_type": "code",
   "execution_count": null,
   "id": "68eeedae",
   "metadata": {},
   "outputs": [],
   "source": [
    "# Create budget vs revenue scatter plot\n",
    "plt.figure(figsize=(12, 8))\n",
    "sns.scatterplot(data=df, x='budget', y='revenue', alpha=0.6)\n",
    "plt.title('Budget vs Revenue Relationship')\n",
    "plt.xlabel('Budget (USD)')\n",
    "plt.ylabel('Revenue (USD)')"
   ]
  },
  {
   "cell_type": "code",
   "execution_count": null,
   "id": "c0d51d2b",
   "metadata": {},
   "outputs": [],
   "source": [
    "# Add diagonal line representing break-even point\n",
    "max_val = max(df['budget'].max(), df['revenue'].max())\n",
    "plt.plot([0, max_val], [0, max_val], 'r--', label='Break-even line')\n",
    "plt.legend()"
   ]
  },
  {
   "cell_type": "code",
   "execution_count": null,
   "id": "3c58b958",
   "metadata": {},
   "outputs": [],
   "source": [
    "# Add annotations for notable outliers\n",
    "for idx, row in df.nlargest(3, 'revenue').iterrows():\n",
    "    plt.annotate(row['title'], \n",
    "                 (row['budget'], row['revenue']),\n",
    "                 xytext=(10, 10), \n",
    "                 textcoords='offset points')"
   ]
  },
  {
   "cell_type": "code",
   "execution_count": null,
   "id": "d93b7d82",
   "metadata": {},
   "outputs": [],
   "source": [
    "plt.ticklabel_format(style='plain')\n",
    "plt.tight_layout()\n",
    "plt.savefig('../../../reports/figures/budget_vs_revenue.png', dpi=300, bbox_inches='tight')\n",
    "plt.show()"
   ]
  },
  {
   "cell_type": "code",
   "execution_count": null,
   "id": "2920afe4",
   "metadata": {},
   "outputs": [],
   "source": [
    "# Calculate and analyze ROI\n",
    "df['roi'] = (df['revenue'] - df['budget']) / df['budget'] * 100"
   ]
  },
  {
   "cell_type": "code",
   "execution_count": null,
   "id": "58f7db84",
   "metadata": {},
   "outputs": [],
   "source": [
    "# Create ROI distribution plot\n",
    "plt.figure(figsize=(12, 6))\n",
    "sns.boxplot(y=df['roi'])\n",
    "plt.title('Return on Investment (ROI) Distribution')\n",
    "plt.ylabel('ROI (%)')\n",
    "plt.savefig('../../../reports/figures/roi_distribution.png', dpi=300, bbox_inches='tight')\n",
    "plt.show()"
   ]
  },
  {
   "cell_type": "code",
   "execution_count": null,
   "id": "cdc278d8",
   "metadata": {
    "lines_to_next_cell": 1
   },
   "outputs": [],
   "source": [
    "# Display top 10 movies by ROI\n",
    "top_10_roi = df.nlargest(10, 'roi')[['title', 'release_date', 'budget', 'revenue', 'roi']]\n",
    "print(\"\\nTop 10 Movies by ROI:\")\n",
    "print(top_10_roi.to_string(index=False))"
   ]
  },
  {
   "cell_type": "markdown",
   "id": "b2cde281",
   "metadata": {},
   "source": [
    "## Genre Analysis"
   ]
  },
  {
   "cell_type": "code",
   "execution_count": null,
   "id": "b7f6235c",
   "metadata": {
    "lines_to_next_cell": 1
   },
   "outputs": [],
   "source": [
    "# Extract genres from the genre_ids column\n",
    "def extract_genres(row):\n",
    "    \"\"\"Extract genre names from genre_ids.\"\"\"\n",
    "    if pd.isna(row['genre_ids']):\n",
    "        return []\n",
    "    \n",
    "    genres = []\n",
    "    for genre_id in row['genre_ids']:\n",
    "        if pd.notnull(genre_id):\n",
    "            genres.append(str(genre_id))\n",
    "    return genres"
   ]
  },
  {
   "cell_type": "code",
   "execution_count": null,
   "id": "906fd33b",
   "metadata": {},
   "outputs": [],
   "source": [
    "# Apply the function to create a list of genres for each movie\n",
    "df['genres_list'] = df.apply(extract_genres, axis=1)"
   ]
  },
  {
   "cell_type": "code",
   "execution_count": null,
   "id": "1b16c1ad",
   "metadata": {},
   "outputs": [],
   "source": [
    "# Create a new dataframe with one row per movie-genre combination\n",
    "genre_df = df.explode('genres_list')"
   ]
  },
  {
   "cell_type": "code",
   "execution_count": null,
   "id": "dfdbc624",
   "metadata": {},
   "outputs": [],
   "source": [
    "# Count the number of movies in each genre\n",
    "genre_counts = genre_df['genres_list'].value_counts().reset_index()\n",
    "genre_counts.columns = ['genre', 'count']"
   ]
  },
  {
   "cell_type": "code",
   "execution_count": null,
   "id": "92f8cfed",
   "metadata": {},
   "outputs": [],
   "source": [
    "# Create a bar chart of genre distribution\n",
    "plt.figure(figsize=(14, 8))\n",
    "sns.barplot(data=genre_counts.head(15), x='genre', y='count')\n",
    "plt.title('Distribution of Disney Movies by Genre')\n",
    "plt.xlabel('Genre')\n",
    "plt.ylabel('Number of Movies')\n",
    "plt.xticks(rotation=45, ha='right')\n",
    "plt.tight_layout()\n",
    "plt.savefig('../../../reports/figures/genre_distribution.png', dpi=300, bbox_inches='tight')\n",
    "plt.show()"
   ]
  },
  {
   "cell_type": "code",
   "execution_count": null,
   "id": "ddc461f9",
   "metadata": {},
   "outputs": [],
   "source": [
    "# Calculate average revenue by genre\n",
    "genre_performance = genre_df.groupby('genres_list').agg({\n",
    "    'revenue': 'mean',\n",
    "    'budget': 'mean',\n",
    "    'roi': 'mean',\n",
    "    'id': 'count'\n",
    "}).reset_index()\n",
    "genre_performance.columns = ['genre', 'avg_revenue', 'avg_budget', 'avg_roi', 'movie_count']\n",
    "genre_performance = genre_performance.sort_values('avg_revenue', ascending=False)"
   ]
  },
  {
   "cell_type": "code",
   "execution_count": null,
   "id": "7d6d3b7d",
   "metadata": {},
   "outputs": [],
   "source": [
    "# Create a bar chart of average revenue by genre\n",
    "plt.figure(figsize=(14, 8))\n",
    "sns.barplot(data=genre_performance.head(10), x='genre', y='avg_revenue')\n",
    "plt.title('Average Revenue by Genre')\n",
    "plt.xlabel('Genre')\n",
    "plt.ylabel('Average Revenue (USD)')\n",
    "plt.xticks(rotation=45, ha='right')\n",
    "plt.ticklabel_format(style='plain', axis='y')\n",
    "plt.tight_layout()\n",
    "plt.savefig('../../../reports/figures/genre_revenue.png', dpi=300, bbox_inches='tight')\n",
    "plt.show()"
   ]
  },
  {
   "cell_type": "code",
   "execution_count": null,
   "id": "50b431f2",
   "metadata": {},
   "outputs": [],
   "source": [
    "# Create a bar chart of average ROI by genre\n",
    "plt.figure(figsize=(14, 8))\n",
    "sns.barplot(data=genre_performance.head(10), x='genre', y='avg_roi')\n",
    "plt.title('Average ROI by Genre')\n",
    "plt.xlabel('Genre')\n",
    "plt.ylabel('Average ROI (%)')\n",
    "plt.xticks(rotation=45, ha='right')\n",
    "plt.tight_layout()\n",
    "plt.savefig('../../../reports/figures/genre_roi.png', dpi=300, bbox_inches='tight')\n",
    "plt.show()"
   ]
  },
  {
   "cell_type": "code",
   "execution_count": null,
   "id": "aa31ea7a",
   "metadata": {},
   "outputs": [],
   "source": [
    "# Analyze genre trends over time\n",
    "df['release_year'] = pd.to_datetime(df['release_date']).dt.year"
   ]
  },
  {
   "cell_type": "code",
   "execution_count": null,
   "id": "dfe30d58",
   "metadata": {},
   "outputs": [],
   "source": [
    "# Create a pivot table of genre counts by year\n",
    "genre_trends = genre_df.groupby(['release_year', 'genres_list']).size().reset_index()\n",
    "genre_trends.columns = ['year', 'genre', 'count']"
   ]
  },
  {
   "cell_type": "code",
   "execution_count": null,
   "id": "9c649b9d",
   "metadata": {},
   "outputs": [],
   "source": [
    "# Filter for the top 5 genres\n",
    "top_genres = genre_counts.head(5)['genre'].tolist()\n",
    "genre_trends_filtered = genre_trends[genre_trends['genre'].isin(top_genres)]"
   ]
  },
  {
   "cell_type": "code",
   "execution_count": null,
   "id": "fcc269eb",
   "metadata": {},
   "outputs": [],
   "source": [
    "# Create a line chart of genre trends\n",
    "plt.figure(figsize=(14, 8))\n",
    "sns.lineplot(data=genre_trends_filtered, x='year', y='count', hue='genre')\n",
    "plt.title('Genre Trends Over Time')\n",
    "plt.xlabel('Release Year')\n",
    "plt.ylabel('Number of Movies')\n",
    "plt.legend(title='Genre')\n",
    "plt.tight_layout()\n",
    "plt.savefig('../../../reports/figures/genre_trends.png', dpi=300, bbox_inches='tight')\n",
    "plt.show()"
   ]
  },
  {
   "cell_type": "markdown",
   "id": "96f3c839",
   "metadata": {},
   "source": [
    "## Temporal Analysis"
   ]
  },
  {
   "cell_type": "code",
   "execution_count": null,
   "id": "861c832a",
   "metadata": {},
   "outputs": [],
   "source": [
    "# Convert release_date to datetime\n",
    "df['release_date'] = pd.to_datetime(df['release_date'])\n",
    "df['release_year'] = df['release_date'].dt.year\n",
    "df['release_month'] = df['release_date'].dt.month\n",
    "df['release_quarter'] = df['release_date'].dt.quarter"
   ]
  },
  {
   "cell_type": "code",
   "execution_count": null,
   "id": "10344a9a",
   "metadata": {},
   "outputs": [],
   "source": [
    "# Create a line chart of movie releases by year\n",
    "yearly_releases = df.groupby('release_year').size().reset_index()\n",
    "yearly_releases.columns = ['year', 'count']"
   ]
  },
  {
   "cell_type": "code",
   "execution_count": null,
   "id": "40d8634c",
   "metadata": {},
   "outputs": [],
   "source": [
    "plt.figure(figsize=(14, 8))\n",
    "sns.lineplot(data=yearly_releases, x='year', y='count')\n",
    "plt.title('Number of Disney Movie Releases by Year')\n",
    "plt.xlabel('Release Year')\n",
    "plt.ylabel('Number of Movies')\n",
    "plt.tight_layout()\n",
    "plt.savefig('../../../reports/figures/yearly_releases.png', dpi=300, bbox_inches='tight')\n",
    "plt.show()"
   ]
  },
  {
   "cell_type": "code",
   "execution_count": null,
   "id": "9d4033db",
   "metadata": {},
   "outputs": [],
   "source": [
    "# Create a bar chart of movie releases by month\n",
    "monthly_releases = df.groupby('release_month').size().reset_index()\n",
    "monthly_releases.columns = ['month', 'count']"
   ]
  },
  {
   "cell_type": "code",
   "execution_count": null,
   "id": "6be3be31",
   "metadata": {},
   "outputs": [],
   "source": [
    "plt.figure(figsize=(14, 8))\n",
    "sns.barplot(data=monthly_releases, x='month', y='count')\n",
    "plt.title('Number of Disney Movie Releases by Month')\n",
    "plt.xlabel('Release Month')\n",
    "plt.ylabel('Number of Movies')\n",
    "plt.xticks(ticks=range(12), labels=['Jan', 'Feb', 'Mar', 'Apr', 'May', 'Jun', 'Jul', 'Aug', 'Sep', 'Oct', 'Nov', 'Dec'])\n",
    "plt.tight_layout()\n",
    "plt.savefig('../../../reports/figures/monthly_releases.png', dpi=300, bbox_inches='tight')\n",
    "plt.show()"
   ]
  },
  {
   "cell_type": "code",
   "execution_count": null,
   "id": "457d25ea",
   "metadata": {},
   "outputs": [],
   "source": [
    "# Analyze seasonal performance\n",
    "seasonal_performance = df.groupby('release_quarter').agg({\n",
    "    'revenue': 'mean',\n",
    "    'budget': 'mean',\n",
    "    'roi': 'mean',\n",
    "    'id': 'count'\n",
    "}).reset_index()\n",
    "seasonal_performance.columns = ['quarter', 'avg_revenue', 'avg_budget', 'avg_roi', 'movie_count']"
   ]
  },
  {
   "cell_type": "code",
   "execution_count": null,
   "id": "bbad2f1f",
   "metadata": {},
   "outputs": [],
   "source": [
    "plt.figure(figsize=(14, 8))\n",
    "sns.barplot(data=seasonal_performance, x='quarter', y='avg_revenue')\n",
    "plt.title('Average Revenue by Release Quarter')\n",
    "plt.xlabel('Release Quarter')\n",
    "plt.ylabel('Average Revenue (USD)')\n",
    "plt.ticklabel_format(style='plain', axis='y')\n",
    "plt.tight_layout()\n",
    "plt.savefig('../../../reports/figures/quarterly_revenue.png', dpi=300, bbox_inches='tight')\n",
    "plt.show()"
   ]
  },
  {
   "cell_type": "code",
   "execution_count": null,
   "id": "66ab0136",
   "metadata": {},
   "outputs": [],
   "source": [
    "# Calculate year-over-year growth in revenue\n",
    "yearly_revenue = df.groupby('release_year')['revenue'].sum().reset_index()\n",
    "yearly_revenue['yoy_growth'] = calculate_growth(yearly_revenue['revenue'])"
   ]
  },
  {
   "cell_type": "code",
   "execution_count": null,
   "id": "3f02c4d4",
   "metadata": {},
   "outputs": [],
   "source": [
    "plt.figure(figsize=(14, 8))\n",
    "sns.lineplot(data=yearly_revenue, x='release_year', y='yoy_growth')\n",
    "plt.title('Year-over-Year Growth in Disney Movie Revenue')\n",
    "plt.xlabel('Release Year')\n",
    "plt.ylabel('YoY Growth (%)')\n",
    "plt.axhline(y=0, color='r', linestyle='--')\n",
    "plt.tight_layout()\n",
    "plt.savefig('../../../reports/figures/yoy_growth.png', dpi=300, bbox_inches='tight')\n",
    "plt.show()"
   ]
  },
  {
   "cell_type": "markdown",
   "id": "36c41ab1",
   "metadata": {},
   "source": [
    "## Audience Analysis"
   ]
  },
  {
   "cell_type": "code",
   "execution_count": null,
   "id": "573697e8",
   "metadata": {},
   "outputs": [],
   "source": [
    "# Analyze rating distribution\n",
    "plt.figure(figsize=(12, 6))\n",
    "sns.histplot(data=df, x='vote_average', bins=20)\n",
    "plt.title('Distribution of Movie Ratings')\n",
    "plt.xlabel('Rating (0-10)')\n",
    "plt.ylabel('Count')\n",
    "plt.tight_layout()\n",
    "plt.savefig('../../../reports/figures/rating_distribution.png', dpi=300, bbox_inches='tight')\n",
    "plt.show()"
   ]
  },
  {
   "cell_type": "code",
   "execution_count": null,
   "id": "86f116d4",
   "metadata": {},
   "outputs": [],
   "source": [
    "# Create a scatter plot of rating vs popularity\n",
    "plt.figure(figsize=(12, 8))\n",
    "sns.scatterplot(data=df, x='vote_average', y='popularity', alpha=0.6)\n",
    "plt.title('Rating vs Popularity')\n",
    "plt.xlabel('Rating (0-10)')\n",
    "plt.ylabel('Popularity')"
   ]
  },
  {
   "cell_type": "code",
   "execution_count": null,
   "id": "2cb75b2e",
   "metadata": {},
   "outputs": [],
   "source": [
    "# Add annotations for notable outliers\n",
    "for idx, row in df.nlargest(5, 'popularity').iterrows():\n",
    "    plt.annotate(row['title'], \n",
    "                 (row['vote_average'], row['popularity']),\n",
    "                 xytext=(10, 10), \n",
    "                 textcoords='offset points')"
   ]
  },
  {
   "cell_type": "code",
   "execution_count": null,
   "id": "26d2c4ac",
   "metadata": {},
   "outputs": [],
   "source": [
    "plt.tight_layout()\n",
    "plt.savefig('../../../reports/figures/rating_vs_popularity.png', dpi=300, bbox_inches='tight')\n",
    "plt.show()"
   ]
  },
  {
   "cell_type": "code",
   "execution_count": null,
   "id": "45212737",
   "metadata": {},
   "outputs": [],
   "source": [
    "# Analyze the relationship between rating and revenue\n",
    "plt.figure(figsize=(12, 8))\n",
    "sns.scatterplot(data=df, x='vote_average', y='revenue', alpha=0.6)\n",
    "plt.title('Rating vs Revenue')\n",
    "plt.xlabel('Rating (0-10)')\n",
    "plt.ylabel('Revenue (USD)')\n",
    "plt.ticklabel_format(style='plain', axis='y')\n",
    "plt.tight_layout()\n",
    "plt.savefig('../../../reports/figures/rating_vs_revenue.png', dpi=300, bbox_inches='tight')\n",
    "plt.show()"
   ]
  },
  {
   "cell_type": "code",
   "execution_count": null,
   "id": "33deb934",
   "metadata": {},
   "outputs": [],
   "source": [
    "# Calculate correlation between rating and revenue\n",
    "rating_revenue_corr = df['vote_average'].corr(df['revenue'])\n",
    "print(f\"Correlation between rating and revenue: {rating_revenue_corr:.2f}\")"
   ]
  },
  {
   "cell_type": "code",
   "execution_count": null,
   "id": "b7a9472e",
   "metadata": {},
   "outputs": [],
   "source": [
    "# Analyze the relationship between vote count and revenue\n",
    "plt.figure(figsize=(12, 8))\n",
    "sns.scatterplot(data=df, x='vote_count', y='revenue', alpha=0.6)\n",
    "plt.title('Vote Count vs Revenue')\n",
    "plt.xlabel('Vote Count')\n",
    "plt.ylabel('Revenue (USD)')\n",
    "plt.ticklabel_format(style='plain', axis='y')\n",
    "plt.tight_layout()\n",
    "plt.savefig('../../../reports/figures/vote_count_vs_revenue.png', dpi=300, bbox_inches='tight')\n",
    "plt.show()"
   ]
  },
  {
   "cell_type": "code",
   "execution_count": null,
   "id": "0a09a4e8",
   "metadata": {},
   "outputs": [],
   "source": [
    "# Calculate correlation between vote count and revenue\n",
    "vote_count_revenue_corr = df['vote_count'].corr(df['revenue'])\n",
    "print(f\"Correlation between vote count and revenue: {vote_count_revenue_corr:.2f}\")"
   ]
  },
  {
   "cell_type": "markdown",
   "id": "da43d91d",
   "metadata": {},
   "source": [
    "## Statistical Tests"
   ]
  },
  {
   "cell_type": "code",
   "execution_count": null,
   "id": "8f04a7c6",
   "metadata": {},
   "outputs": [],
   "source": [
    "print(\"\\n\\n## Advanced Statistical Analysis\")\n",
    "print(\"Performing statistical tests to validate observations and identify significant patterns.\")"
   ]
  },
  {
   "cell_type": "code",
   "execution_count": null,
   "id": "a56ad488",
   "metadata": {},
   "outputs": [],
   "source": [
    "# 1. Hypothesis Testing: Do high-budget movies have significantly higher revenue?\n",
    "print(\"\\n### Hypothesis Testing: Budget Impact on Revenue\")\n",
    "print(\"H0: High-budget and low-budget movies have the same average revenue\")\n",
    "print(\"H1: High-budget movies have higher average revenue than low-budget movies\")"
   ]
  },
  {
   "cell_type": "code",
   "execution_count": null,
   "id": "c731bf9a",
   "metadata": {},
   "outputs": [],
   "source": [
    "# Define high and low budget movies (using median as threshold)\n",
    "median_budget = df['budget'].median()\n",
    "high_budget = df[df['budget'] > median_budget]['revenue']\n",
    "low_budget = df[df['budget'] <= median_budget]['revenue']"
   ]
  },
  {
   "cell_type": "code",
   "execution_count": null,
   "id": "7e04c9af",
   "metadata": {},
   "outputs": [],
   "source": [
    "# Perform t-test\n",
    "t_stat, p_value = stats.ttest_ind(high_budget, low_budget, equal_var=False)\n",
    "print(f\"T-statistic: {t_stat:.4f}\")\n",
    "print(f\"P-value: {p_value:.4f}\")\n",
    "print(f\"Conclusion: {'Reject' if p_value < 0.05 else 'Fail to reject'} the null hypothesis\")\n",
    "print(f\"Interpretation: {'High-budget movies do have significantly higher revenue' if p_value < 0.05 else 'There is no significant difference in revenue between high and low budget movies'}\")"
   ]
  },
  {
   "cell_type": "code",
   "execution_count": null,
   "id": "bfa7dd82",
   "metadata": {},
   "outputs": [],
   "source": [
    "# 2. ANOVA: Is there a significant difference in revenue across different release quarters?\n",
    "print(\"\\n### ANOVA: Revenue Differences Across Release Quarters\")\n",
    "print(\"H0: All quarters have the same average revenue\")\n",
    "print(\"H1: At least one quarter has a different average revenue\")"
   ]
  },
  {
   "cell_type": "code",
   "execution_count": null,
   "id": "775f94cb",
   "metadata": {},
   "outputs": [],
   "source": [
    "# Perform one-way ANOVA\n",
    "quarters = []\n",
    "revenues = []\n",
    "for quarter in df['release_quarter'].unique():\n",
    "    quarters.append(f\"Q{quarter}\")\n",
    "    revenues.append(df[df['release_quarter'] == quarter]['revenue'])"
   ]
  },
  {
   "cell_type": "code",
   "execution_count": null,
   "id": "a28303e1",
   "metadata": {},
   "outputs": [],
   "source": [
    "f_stat, p_value = stats.f_oneway(*revenues)\n",
    "print(f\"F-statistic: {f_stat:.4f}\")\n",
    "print(f\"P-value: {p_value:.4f}\")\n",
    "print(f\"Conclusion: {'Reject' if p_value < 0.05 else 'Fail to reject'} the null hypothesis\")\n",
    "print(f\"Interpretation: {'There are significant differences in revenue across quarters' if p_value < 0.05 else 'There is no significant difference in revenue across quarters'}\")"
   ]
  },
  {
   "cell_type": "code",
   "execution_count": null,
   "id": "52b65cd6",
   "metadata": {},
   "outputs": [],
   "source": [
    "# 3. Regression Analysis: Predicting movie revenue\n",
    "print(\"\\n### Multiple Regression Analysis: Predicting Movie Revenue\")"
   ]
  },
  {
   "cell_type": "code",
   "execution_count": null,
   "id": "cdb921f4",
   "metadata": {},
   "outputs": [],
   "source": [
    "# Prepare data for regression\n",
    "features = ['budget', 'vote_average', 'vote_count', 'popularity', 'release_year']\n",
    "X = df[features].dropna()\n",
    "y = df.loc[X.index, 'revenue']"
   ]
  },
  {
   "cell_type": "code",
   "execution_count": null,
   "id": "c09979eb",
   "metadata": {},
   "outputs": [],
   "source": [
    "# Split data into training and testing sets\n",
    "X_train, X_test, y_train, y_test = train_test_split(X, y, test_size=0.2, random_state=42)"
   ]
  },
  {
   "cell_type": "code",
   "execution_count": null,
   "id": "fa2e8363",
   "metadata": {},
   "outputs": [],
   "source": [
    "# Standardize features\n",
    "scaler = StandardScaler()\n",
    "X_train_scaled = scaler.fit_transform(X_train)\n",
    "X_test_scaled = scaler.transform(X_test)"
   ]
  },
  {
   "cell_type": "code",
   "execution_count": null,
   "id": "52a282ce",
   "metadata": {},
   "outputs": [],
   "source": [
    "# Fit linear regression model\n",
    "model = LinearRegression()\n",
    "model.fit(X_train_scaled, y_train)"
   ]
  },
  {
   "cell_type": "code",
   "execution_count": null,
   "id": "75030d7e",
   "metadata": {},
   "outputs": [],
   "source": [
    "# Make predictions\n",
    "y_pred = model.predict(X_test_scaled)"
   ]
  },
  {
   "cell_type": "code",
   "execution_count": null,
   "id": "81814a04",
   "metadata": {},
   "outputs": [],
   "source": [
    "# Evaluate model\n",
    "mse = mean_squared_error(y_test, y_pred)\n",
    "r2 = r2_score(y_test, y_pred)\n",
    "print(f\"Mean Squared Error: {mse:.2f}\")\n",
    "print(f\"R² Score: {r2:.4f}\")\n",
    "print(\"Feature Importance:\")\n",
    "for feature, coef in zip(features, model.coef_):\n",
    "    print(f\"  - {feature}: {coef:.4f}\")"
   ]
  },
  {
   "cell_type": "code",
   "execution_count": null,
   "id": "3a952a13",
   "metadata": {},
   "outputs": [],
   "source": [
    "# Create a more detailed regression model using statsmodels\n",
    "print(\"\\n### Detailed Regression Analysis with statsmodels\")\n",
    "X_with_const = sm.add_constant(X)\n",
    "model = sm.OLS(y, X_with_const).fit()\n",
    "print(model.summary().tables[1])  # Print coefficient table"
   ]
  },
  {
   "cell_type": "code",
   "execution_count": null,
   "id": "00e7fcf8",
   "metadata": {},
   "outputs": [],
   "source": [
    "# 4. Time Series Analysis: Analyzing revenue trends over time\n",
    "print(\"\\n### Time Series Analysis: Revenue Trends\")"
   ]
  },
  {
   "cell_type": "code",
   "execution_count": null,
   "id": "e6132898",
   "metadata": {},
   "outputs": [],
   "source": [
    "# Prepare time series data\n",
    "yearly_revenue = df.groupby('release_year')['revenue'].sum().reset_index()\n",
    "yearly_revenue = yearly_revenue.set_index('release_year')\n",
    "yearly_revenue = yearly_revenue.sort_index()"
   ]
  },
  {
   "cell_type": "code",
   "execution_count": null,
   "id": "198cf8fd",
   "metadata": {},
   "outputs": [],
   "source": [
    "# Check for stationarity using Augmented Dickey-Fuller test\n",
    "print(\"Augmented Dickey-Fuller Test for Stationarity:\")\n",
    "result = adfuller(yearly_revenue['revenue'].dropna())\n",
    "print(f\"ADF Statistic: {result[0]:.4f}\")\n",
    "print(f\"P-value: {result[1]:.4f}\")\n",
    "print(f\"Conclusion: {'Revenue time series is stationary' if result[1] < 0.05 else 'Revenue time series is non-stationary'}\")"
   ]
  },
  {
   "cell_type": "code",
   "execution_count": null,
   "id": "fbe387f7",
   "metadata": {},
   "outputs": [],
   "source": [
    "# Perform seasonal decomposition if we have enough data points\n",
    "if len(yearly_revenue) >= 6:\n",
    "    try:\n",
    "        # Decompose time series into trend, seasonal, and residual components\n",
    "        decomposition = seasonal_decompose(yearly_revenue['revenue'], model='additive', period=4)\n",
    "        \n",
    "        # Plot decomposition\n",
    "        plt.figure(figsize=(14, 10))\n",
    "        plt.subplot(411)\n",
    "        plt.plot(decomposition.observed)\n",
    "        plt.title('Observed')\n",
    "        plt.subplot(412)\n",
    "        plt.plot(decomposition.trend)\n",
    "        plt.title('Trend')\n",
    "        plt.subplot(413)\n",
    "        plt.plot(decomposition.seasonal)\n",
    "        plt.title('Seasonal')\n",
    "        plt.subplot(414)\n",
    "        plt.plot(decomposition.resid)\n",
    "        plt.title('Residual')\n",
    "        plt.tight_layout()\n",
    "        plt.savefig('../../../reports/figures/time_series_decomposition.png', dpi=300, bbox_inches='tight')\n",
    "        plt.show()\n",
    "    except:\n",
    "        print(\"Not enough data points for seasonal decomposition with the specified period.\")"
   ]
  },
  {
   "cell_type": "code",
   "execution_count": null,
   "id": "2ebd1947",
   "metadata": {},
   "outputs": [],
   "source": [
    "# 5. Chi-Square Test: Is there an association between genre and high/low revenue?\n",
    "print(\"\\n### Chi-Square Test: Genre and Revenue Association\")\n",
    "print(\"H0: There is no association between genre and revenue level\")\n",
    "print(\"H1: There is an association between genre and revenue level\")"
   ]
  },
  {
   "cell_type": "code",
   "execution_count": null,
   "id": "03d0e3c3",
   "metadata": {},
   "outputs": [],
   "source": [
    "# Create a contingency table\n",
    "# First, identify the top 5 genres\n",
    "top_genres = genre_counts.head(5)['genre'].tolist()"
   ]
  },
  {
   "cell_type": "code",
   "execution_count": null,
   "id": "76119049",
   "metadata": {},
   "outputs": [],
   "source": [
    "# Create a new column for revenue level (high/low)\n",
    "median_revenue = df['revenue'].median()\n",
    "genre_df['revenue_level'] = genre_df['revenue'].apply(lambda x: 'High' if x > median_revenue else 'Low')"
   ]
  },
  {
   "cell_type": "code",
   "execution_count": null,
   "id": "095bafa1",
   "metadata": {},
   "outputs": [],
   "source": [
    "# Filter for top genres\n",
    "filtered_df = genre_df[genre_df['genres_list'].isin(top_genres)]"
   ]
  },
  {
   "cell_type": "code",
   "execution_count": null,
   "id": "da5e91b1",
   "metadata": {},
   "outputs": [],
   "source": [
    "# Create contingency table\n",
    "contingency = pd.crosstab(filtered_df['genres_list'], filtered_df['revenue_level'])\n",
    "print(\"Contingency Table (Genre vs Revenue Level):\")\n",
    "print(contingency)"
   ]
  },
  {
   "cell_type": "code",
   "execution_count": null,
   "id": "988fd339",
   "metadata": {},
   "outputs": [],
   "source": [
    "# Perform chi-square test\n",
    "chi2, p, dof, expected = stats.chi2_contingency(contingency)\n",
    "print(f\"Chi-square statistic: {chi2:.4f}\")\n",
    "print(f\"P-value: {p:.4f}\")\n",
    "print(f\"Degrees of freedom: {dof}\")\n",
    "print(f\"Conclusion: {'Reject' if p < 0.05 else 'Fail to reject'} the null hypothesis\")\n",
    "print(f\"Interpretation: {'There is a significant association between genre and revenue level' if p < 0.05 else 'There is no significant association between genre and revenue level'}\")"
   ]
  },
  {
   "cell_type": "code",
   "execution_count": null,
   "id": "a366f41f",
   "metadata": {},
   "outputs": [],
   "source": [
    "# Save statistical test results\n",
    "plt.figure(figsize=(10, 6))\n",
    "coefficients = pd.Series(model.coef_, index=features)\n",
    "coefficients.plot(kind='bar')\n",
    "plt.title('Regression Coefficients for Revenue Prediction')\n",
    "plt.xlabel('Features')\n",
    "plt.ylabel('Coefficient Value')\n",
    "plt.tight_layout()\n",
    "plt.savefig('../../../reports/figures/regression_coefficients.png', dpi=300, bbox_inches='tight')\n",
    "plt.show()"
   ]
  },
  {
   "cell_type": "markdown",
   "id": "31ed6d1d",
   "metadata": {},
   "source": [
    "## Conclusions"
   ]
  },
  {
   "cell_type": "code",
   "execution_count": null,
   "id": "08898dec",
   "metadata": {},
   "outputs": [],
   "source": [
    "# Calculate overall statistics\n",
    "total_movies = len(df)\n",
    "total_revenue = df['revenue'].sum()\n",
    "avg_revenue = df['revenue'].mean()\n",
    "avg_roi = df['roi'].mean()\n",
    "highest_grossing = df.loc[df['revenue'].idxmax()]['title']\n",
    "highest_roi = df.loc[df['roi'].idxmax()]['title']\n",
    "most_popular_genre = genre_counts.iloc[0]['genre']\n",
    "best_performing_genre = genre_performance.iloc[0]['genre']\n",
    "best_release_quarter = seasonal_performance.loc[seasonal_performance['avg_revenue'].idxmax()]['quarter']"
   ]
  },
  {
   "cell_type": "code",
   "execution_count": null,
   "id": "f4d2340d",
   "metadata": {},
   "outputs": [],
   "source": [
    "print(\"## Disney Movie Analysis Conclusions\")\n",
    "print(f\"Total Movies Analyzed: {total_movies}\")\n",
    "print(f\"Total Revenue Generated: {format_currency(total_revenue)}\")\n",
    "print(f\"Average Revenue per Movie: {format_currency(avg_revenue)}\")\n",
    "print(f\"Average ROI: {avg_roi:.2f}%\")\n",
    "print(f\"Highest Grossing Movie: {highest_grossing}\")\n",
    "print(f\"Highest ROI Movie: {highest_roi}\")\n",
    "print(f\"Most Common Genre: {most_popular_genre}\")\n",
    "print(f\"Best Performing Genre (by Revenue): {best_performing_genre}\")\n",
    "print(f\"Best Release Quarter (by Revenue): Q{best_release_quarter}\")"
   ]
  },
  {
   "cell_type": "code",
   "execution_count": null,
   "id": "6c66bb18",
   "metadata": {},
   "outputs": [],
   "source": [
    "# Save the analysis results to a CSV file\n",
    "results = {\n",
    "    'Metric': [\n",
    "        'Total Movies Analyzed',\n",
    "        'Total Revenue Generated',\n",
    "        'Average Revenue per Movie',\n",
    "        'Average ROI',\n",
    "        'Highest Grossing Movie',\n",
    "        'Highest ROI Movie',\n",
    "        'Most Common Genre',\n",
    "        'Best Performing Genre (by Revenue)',\n",
    "        'Best Release Quarter (by Revenue)'\n",
    "    ],\n",
    "    'Value': [\n",
    "        total_movies,\n",
    "        total_revenue,\n",
    "        avg_revenue,\n",
    "        avg_roi,\n",
    "        highest_grossing,\n",
    "        highest_roi,\n",
    "        most_popular_genre,\n",
    "        best_performing_genre,\n",
    "        f\"Q{best_release_quarter}\"\n",
    "    ]\n",
    "}"
   ]
  },
  {
   "cell_type": "code",
   "execution_count": null,
   "id": "d00961b0",
   "metadata": {},
   "outputs": [],
   "source": [
    "results_df = pd.DataFrame(results)\n",
    "results_df.to_csv('../../../reports/disney_movie_analysis_results.csv', index=False)\n",
    "print(\"Analysis results saved to '../../../reports/disney_movie_analysis_results.csv'\") "
   ]
  }
 ],
 "metadata": {
  "jupytext": {
   "cell_metadata_filter": "-all",
   "encoding": "# coding: utf-8",
   "executable": "/usr/bin/env python",
   "main_language": "python",
   "notebook_metadata_filter": "-all"
  }
 },
 "nbformat": 4,
 "nbformat_minor": 5
}
