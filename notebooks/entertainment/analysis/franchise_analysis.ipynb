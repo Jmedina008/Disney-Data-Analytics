{
  "cells": [
    {
      "cell_type": "markdown",
      "metadata": {},
      "source": [
        "# Disney Franchise Analysis\n\n",
        "Analysis of Disney's major franchises and their performance.\n\n",
        "## Table of Contents\n",
        "1. [Setup and Data Loading](#Setup-and-Data-Loading)\n",
        "2. [Revenue Analysis](#Revenue-Analysis)\n",
        "   - Box Office Revenue\n",
        "   - Merchandise Sales\n",
        "   - Licensing Income\n",
        "3. [Cross-platform Performance](#Cross-platform-Performance)\n",
        "   - Movies\n",
        "   - Theme Parks\n",
        "   - Streaming\n",
        "4. [Audience Demographics](#Audience-Demographics)\n",
        "   - Age Distribution\n",
        "   - Geographic Reach\n",
        "   - Consumer Segments\n",
        "5. [Growth Analysis](#Growth-Analysis)\n",
        "   - Historical Growth\n",
        "   - Market Expansion\n",
        "   - Future Potential\n",
        "6. [Conclusions](#Conclusions)"
      ]
    },
    {
      "cell_type": "code",
      "execution_count": null,
      "metadata": {},
      "outputs": [],
      "source": [
        "# Import required libraries\n",
        "import pandas as pd\n",
        "import numpy as np\n",
        "import matplotlib.pyplot as plt\n",
        "import seaborn as sns\n",
        "from datetime import datetime\n",
        "\n",
        "# Set plotting style\n",
        "plt.style.use('seaborn')\n",
        "sns.set_palette('deep')\n",
        "%matplotlib inline\n",
        "\n",
        "# Configure display options\n",
        "pd.set_option('display.max_columns', None)\n",
        "pd.set_option('display.max_rows', 50)\n",
        "pd.set_option('display.float_format', lambda x: '%.2f' % x)"
      ]
    },
    {
      "cell_type": "code",
      "execution_count": null,
      "metadata": {},
      "outputs": [],
      "source": [
        "# Helper functions for data processing\n",
        "def load_data(filepath):\n",
        "    \"\"\"Load and validate data from specified path.\"\"\"\n",
        "    try:\n",
        "        df = pd.read_parquet(filepath)\n",
        "        print(f'Successfully loaded data from {filepath}')\n",
        "        return df\n",
        "    except Exception as e:\n",
        "        print(f'Error loading data: {e}')\n",
        "        return None\n",
        "\n",
        "def format_currency(value):\n",
        "    \"\"\"Format numbers as currency.\"\"\"\n",
        "    return f'${value:,.2f}'\n",
        "\n",
        "def calculate_growth(series):\n",
        "    \"\"\"Calculate year-over-year growth rate.\"\"\"\n",
        "    return (series - series.shift(1)) / series.shift(1) * 100"
      ]
    }
  ],
  "metadata": {
    "kernelspec": {
      "display_name": "Python 3",
      "language": "python",
      "name": "python3"
    },
    "language_info": {
      "codemirror_mode": {
        "name": "ipython",
        "version": 3
      },
      "file_extension": ".py",
      "mimetype": "text/x-python",
      "name": "python",
      "nbconvert_exporter": "python",
      "pygments_lexer": "ipython3",
      "version": "3.8.0"
    }
  },
  "nbformat": 4,
  "nbformat_minor": 4
}